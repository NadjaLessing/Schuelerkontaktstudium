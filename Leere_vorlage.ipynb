{
 "cells": [
  {
   "cell_type": "markdown",
   "id": "33d270b9",
   "metadata": {},
   "source": [
    "# Plotten in Jupyter Notebook\n",
    "\n",
    "Hinweise für den Umgang mit Jupyter Notebook:\n",
    "<ul>\n",
    "<li>Um alle Zellen auszuführen oben im Menü auf \"Cell\" und dann \"Run all\"</li>\n",
    "<li>Um eine einzelne Zelle auszuführen auf \"Cell\" und \"Run Cells\" oder \"Strg enter\" drücken\n",
    "<li>Um eine neue Zelle zu erstellen auf \"Insert\" klicken.\n",
    "    </li>\n",
    "</ul>\n",
    "\n",
    "Notwendige Bibliotheken laden:"
   ]
  },
  {
   "cell_type": "code",
   "execution_count": 4,
   "id": "c971bbfb",
   "metadata": {},
   "outputs": [],
   "source": [
    "#Dies ist ein Kommentar. Mit '#' lassen sich Zeilen auskommentieren.\n",
    "#Diese Zeilen gehören dann nicht zum Code.\n",
    "import numpy as np \n",
    "import matplotlib.pyplot as plt"
   ]
  },
  {
   "cell_type": "markdown",
   "id": "f191c6bb",
   "metadata": {},
   "source": [
    "# Einen Plot erstellen:"
   ]
  },
  {
   "cell_type": "code",
   "execution_count": 2,
   "id": "ad476ca9",
   "metadata": {},
   "outputs": [
    {
     "data": {
      "image/png": "[encoded data removed]",
      "text/plain": [
       "<Figure size 576x432 with 1 Axes>"
      ]
     },
     "metadata": {
      "needs_background": "light"
     },
     "output_type": "display_data"
    }
   ],
   "source": [
    "fig, ax, = plt.subplots(1, 1, figsize = [8,6]) "
   ]
  },
  {
   "cell_type": "markdown",
   "id": "d59f96d3",
   "metadata": {},
   "source": [
    "Wir haben gerade einen ersten Plot erstellt! <br>\n",
    "\n",
    "## Aufgabe 1: \n",
    "Ändere die Größe von dem Plot.\n",
    "\n",
    "# Mehrere Plots erstellen:"
   ]
  },
  {
   "cell_type": "code",
   "execution_count": 3,
   "id": "919af2f5",
   "metadata": {},
   "outputs": [
    {
     "data": {
      "image/png": "[encoded data removed]",
      "text/plain": [
       "<Figure size 576x432 with 2 Axes>"
      ]
     },
     "metadata": {
      "needs_background": "light"
     },
     "output_type": "display_data"
    }
   ],
   "source": [
    "fig, (ax1, ax2) = plt.subplots(1, 2, figsize = [8,6])"
   ]
  },
  {
   "cell_type": "markdown",
   "id": "60e6bf3d",
   "metadata": {},
   "source": [
    "## Aufgabe 2:\n",
    "Erstelle ein Bild mit 3 oder 4 Plots."
   ]
  },
  {
   "cell_type": "markdown",
   "id": "d5899234",
   "metadata": {},
   "source": [
    "# Einzelne Werte plotten:\n",
    "## y-Werte als Punkte plotten:"
   ]
  },
  {
   "cell_type": "code",
   "execution_count": null,
   "id": "2ac0063c",
   "metadata": {},
   "outputs": [],
   "source": []
  },
  {
   "cell_type": "markdown",
   "id": "77575aa9",
   "metadata": {},
   "source": [
    "## y-Werte als Linie plotten:"
   ]
  },
  {
   "cell_type": "code",
   "execution_count": null,
   "id": "782bf24f",
   "metadata": {},
   "outputs": [],
   "source": []
  },
  {
   "cell_type": "markdown",
   "id": "9b10941f",
   "metadata": {},
   "source": [
    "# Einen Graphen plotten:\n",
    "\n",
    "## Aufgabe 3:\n",
    "Plotte die Funktion $f(x) = 2 \\cdot \\sin(x - 2) + 3$."
   ]
  },
  {
   "cell_type": "markdown",
   "id": "484d1a69",
   "metadata": {},
   "source": [
    "## Aufgabe 4:\n",
    "Plottet die Funktionen $f(x) = 2 \\cdot \\sin(x - 2) + 3$ und $g(x) = x^2 - 2$ in den gleichen Plot. <br>\n",
    "Ihr könnt auch Farbe der Graphen oder das Aussehen der Linie ändern. Eine Legende ist hilfreich, wenn in einem Plot mehr als ein Graph zu sehen ist!"
   ]
  },
  {
   "cell_type": "markdown",
   "id": "7f76eaa6",
   "metadata": {},
   "source": [
    "## Aufgabe 5:\n",
    "Plottet die Funktionen $f(x) = 2 \\cdot \\sin(x - 2) + 3$ und $g(x) = x^2 - 2$ in zwei unterschiedliche Plots im gleichen Bild. "
   ]
  },
  {
   "cell_type": "markdown",
   "id": "d8eb7431",
   "metadata": {},
   "source": [
    "## Aufgabe 6: Speichern\n",
    "Speichert einen der Plots als pdf Datei."
   ]
  },
  {
   "cell_type": "markdown",
   "id": "d7cf3bce",
   "metadata": {},
   "source": [
    "## Aufgabe 7:\n",
    "Erstellt einen oder mehrere Plots eurer Wahl. Jeder Plot kann einen oder mehrere Graphen oder Punkte enthalten. <br> Gestaltet euren Plot nach eurem Geschmack :)\n"
   ]
  }
 ],
 "metadata": {
  "kernelspec": {
   "display_name": "Python 3",
   "language": "python",
   "name": "python3"
  },
  "language_info": {
   "codemirror_mode": {
    "name": "ipython",
    "version": 3
   },
   "file_extension": ".py",
   "mimetype": "text/x-python",
   "name": "python",
   "nbconvert_exporter": "python",
   "pygments_lexer": "ipython3",
   "version": "3.8.10"
  }
 },
 "nbformat": 4,
 "nbformat_minor": 5
}
